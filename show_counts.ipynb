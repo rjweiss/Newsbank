{
 "metadata": {
  "name": "",
  "signature": "sha256:f96b22a7256e8afe18f3e840ead88afccdebd59173e5f84d8718dc73af812cc1"
 },
 "nbformat": 3,
 "nbformat_minor": 0,
 "worksheets": [
  {
   "cells": [
    {
     "cell_type": "markdown",
     "metadata": {},
     "source": [
      "# Counting number of shows per market, code, and channel\n",
      "\n",
      "I wrote a small script that lightly parses the Newsbank corpus, mostly just extracting meta data and creating some summaries.  From each doc, I extracted the value of the `<paper>` tag under the `<sourceInfo>` tags.  `showcounts.json` contains a simple mapping of `<paper>` value to counts. "
     ]
    },
    {
     "cell_type": "code",
     "collapsed": false,
     "input": [
      "import os, sys, json, re\n",
      "from collections import defaultdict, OrderedDict\n",
      "from pprint import pprint\n",
      "\n",
      "d = json.load(open('showcounts.json'))\n",
      "pprint(d.keys()[:10]) # example of what the names look like\n",
      "pprint(d.values()[:10]) # example of what the counts look like\n"
     ],
     "language": "python",
     "metadata": {},
     "outputs": [
      {
       "output_type": "stream",
       "stream": "stdout",
       "text": [
        "[u'Up With Steve Kornacki [MSNBC] (USA)',\n",
        " u'Melissa Harris-Perry [MSNBC] (USA)',\n",
        " u'FOX - 29 KABB (San Antonio, TX)',\n",
        " u'Independent - 20 KBWB (San Francisco, CA)',\n",
        " u'PoliticsNation with Al Sharpton [MSNBC] (USA)',\n",
        " u'CNN Live Today [CNN] (USA)',\n",
        " u'Global Challenges [CNN International] (USA)',\n",
        " u'UPN - 33 WBFS (Miami, FL)',\n",
        " u'Lou Dobbs Tonight [CNN] (USA)',\n",
        " u'CNN Dinero [CNN en Espa\\xc3\\xb1ol]']\n",
        "[265, 372, 329, 259, 1011, 538, 9, 1448, 1257, 169]\n"
       ]
      }
     ],
     "prompt_number": 1
    },
    {
     "cell_type": "markdown",
     "metadata": {},
     "source": [
      "Here is the sum total of all the shows in the Newsbank corpus."
     ]
    },
    {
     "cell_type": "code",
     "collapsed": false,
     "input": [
      "print sum(d.values())"
     ],
     "language": "python",
     "metadata": {},
     "outputs": [
      {
       "output_type": "stream",
       "stream": "stdout",
       "text": [
        "1185176\n"
       ]
      }
     ],
     "prompt_number": 2
    },
    {
     "cell_type": "markdown",
     "metadata": {},
     "source": [
      "## Counting by markets"
     ]
    },
    {
     "cell_type": "code",
     "collapsed": false,
     "input": [
      "markets = defaultdict(int)\n",
      "channels = defaultdict(int)\n",
      "market_re = re.compile('\\((.+)\\)')\n",
      "channel_re = re.compile('\\[(.+)\\]')\n",
      "\n",
      "for k,v in d.items():\n",
      "    market_found = re.search(market_re, k)\n",
      "    channel_found = re.search(channel_re, k)\n",
      "    if market_found:\n",
      "        markets[market_found.group(1)] += v\n",
      "    if channel_found:\n",
      "        channels[channel_found.group(1)] += v        "
     ],
     "language": "python",
     "metadata": {},
     "outputs": [],
     "prompt_number": 3
    },
    {
     "cell_type": "code",
     "collapsed": false,
     "input": [
      "pprint(dict(markets))"
     ],
     "language": "python",
     "metadata": {},
     "outputs": [
      {
       "output_type": "stream",
       "stream": "stdout",
       "text": [
        "{u'Abilene-Sweetwater, TX': 2742,\n",
        " u'Albuquerque-Santa Fe, NM': 5872,\n",
        " u'Amarillo, TX': 3307,\n",
        " u'Atlanta, GA': 561,\n",
        " u'Austin, TX': 6646,\n",
        " u'Boston, MA': 2309,\n",
        " u'Camden, NJ': 115,\n",
        " u'Chattanooga, TN': 15674,\n",
        " u'Cincinnati, OH': 2117,\n",
        " u'Colorado Springs-Pueblo, CO': 3576,\n",
        " u'Denver, CO': 14631,\n",
        " u'Fort Smith-Fayetteville-Springdale-Rogers, AL': 53,\n",
        " u'Fort Smith-Fayetteville-Springdale-Rogers, AR': 15918,\n",
        " u'Ft. Myers, FL': 8113,\n",
        " u'Grand Junction, CO': 81,\n",
        " u'Grand Junction-Montrose, CO': 1540,\n",
        " u'Green Bay-Appleton, WI': 5707,\n",
        " u'Hartford-New Haven, CT': 2027,\n",
        " u'Honolulu, HI': 23623,\n",
        " u'Houston, TX': 3932,\n",
        " u'Jonesboro, AR': 6239,\n",
        " u'Knoxville, TN': 5268,\n",
        " u'La Crosse-Eau Claire, WI': 2936,\n",
        " u'Las Vegas, NV': 63238,\n",
        " u'Lexington, KY': 3500,\n",
        " u'Little Rock-Pine Bluff, AR': 33759,\n",
        " u'Lubbock, TX': 3271,\n",
        " u'Madison, WI': 5550,\n",
        " u'Memphis, TN': 9888,\n",
        " u'Miami, FL': 26870,\n",
        " u'Milwaukee, WI': 8359,\n",
        " u'Minneapolis, MN': 70287,\n",
        " u'Nashville, TN': 26222,\n",
        " u'New York, NY': 4555,\n",
        " u'Oakland, CA': 2306,\n",
        " u'Odessa-Midland, TX': 2814,\n",
        " u'Oklahoma City, OK': 12377,\n",
        " u'Orlando, FL': 9379,\n",
        " u'Philadelphia, PA': 2023,\n",
        " u'San Antonio, TX': 3336,\n",
        " u'San Diego, CA': 9095,\n",
        " u'San Francisco, CA': 8577,\n",
        " u'San Jose, CA': 2562,\n",
        " u'Seattle-Tacoma, WA': 32049,\n",
        " u'Tampa, FL': 9152,\n",
        " u'Tulsa, OK': 12771,\n",
        " u'USA': 403792,\n",
        " u'Waco-Temple-Bryan, TX': 2468,\n",
        " u'Wausau-Rhinelander, WI': 3578,\n",
        " u'West Palm Beach, FL': 9985,\n",
        " u'Wilkes Barre-Scranton, PA': 4514}\n"
       ]
      }
     ],
     "prompt_number": 4
    },
    {
     "cell_type": "markdown",
     "metadata": {},
     "source": [
      "## Counting by channels"
     ]
    },
    {
     "cell_type": "code",
     "collapsed": false,
     "input": [
      "pprint(dict(channels))"
     ],
     "language": "python",
     "metadata": {},
     "outputs": [
      {
       "output_type": "stream",
       "stream": "stdout",
       "text": [
        "{u'Bloomberg': 12781,\n",
        " u'CBS': 2506,\n",
        " u'CNN': 84218,\n",
        " u'CNN Headline News': 3905,\n",
        " u'CNN International': 6793,\n",
        " u'CNN en Espa\\xc3\\xb1ol': 8439,\n",
        " u'CNNfn': 46,\n",
        " u'Fox Business': 15288,\n",
        " u'Fox News': 59827,\n",
        " u'MSNBC': 13933,\n",
        " u'NBC': 13170,\n",
        " u'NPR': 186058}\n"
       ]
      }
     ],
     "prompt_number": 5
    },
    {
     "cell_type": "markdown",
     "metadata": {},
     "source": [
      "## Matching against the master list of DMCAs"
     ]
    },
    {
     "cell_type": "code",
     "collapsed": false,
     "input": [
      "DMCAs = defaultdict(int)\n",
      "DMCA_re = re.compile('([A-Z][A-Z][A-Z][A-Z])')\n",
      "\n",
      "for k,v in d.items():\n",
      "    DMCA_found = re.search(DMCA_re, k)\n",
      "    if DMCA_found:\n",
      "        DMCAs[DMCA_found.group(0)] += v\n",
      "\n",
      "pprint(DMCAs.keys()[:10])        "
     ],
     "language": "python",
     "metadata": {},
     "outputs": [
      {
       "output_type": "stream",
       "stream": "stdout",
       "text": [
        "[u'KOTV',\n",
        " u'KVII',\n",
        " u'WCVB',\n",
        " u'WDJT',\n",
        " u'KATV',\n",
        " u'WOAI',\n",
        " u'CNNG',\n",
        " u'WPTV',\n",
        " u'WRCB',\n",
        " u'KITV']\n"
       ]
      }
     ],
     "prompt_number": 6
    },
    {
     "cell_type": "markdown",
     "metadata": {},
     "source": [
      "## How many Newsbank markets are in the master list of DMCAs?\n",
      "\n",
      "First, let's create the mapping of codes to markets.  There is a CSV with this information already."
     ]
    },
    {
     "cell_type": "code",
     "collapsed": false,
     "input": [
      "import csv\n",
      "code_map = dict()\n",
      "network_map = dict()\n",
      "\n",
      "with open('channel_names.csv') as f:\n",
      "    csv_reader = csv.DictReader(f)\n",
      "    for row in csv_reader:\n",
      "        code_map[row['Code']] = row['Market']\n",
      "        network_map[row['Code'].strip()] = row['Channel']      \n",
      "      \n",
      "pprint((code_map))"
     ],
     "language": "python",
     "metadata": {},
     "outputs": [
      {
       "output_type": "stream",
       "stream": "stdout",
       "text": [
        "{'KABB': 'San Antonio ',\n",
        " 'KAIT': 'Jonesboro ',\n",
        " 'KAMC': 'Lubbock ',\n",
        " 'KAMR': 'Amarillo ',\n",
        " 'KARE': 'Minneapolis ',\n",
        " 'KARK': 'Little Rock ',\n",
        " 'KASA': 'Albuquerque ',\n",
        " 'KATV': 'Little Rock ',\n",
        " 'KCBD': 'Lubbock ',\n",
        " 'KCEN': 'Waco',\n",
        " 'KCIT': 'Amarillo ',\n",
        " 'KCNC': 'Denver ',\n",
        " 'KCPQ': 'Seattle ',\n",
        " 'KDVR': 'Denver ',\n",
        " 'KENS': 'San Antonio ',\n",
        " 'KEYE': 'Austin ',\n",
        " 'KFDA': 'Amarillo ',\n",
        " 'KFIX': 'San Francisco ',\n",
        " 'KFMB': 'San Diego ',\n",
        " 'KFOR': 'Oklahoma City ',\n",
        " 'KFOX': 'Grand Junction ',\n",
        " 'KFSM': 'Fort Smith ',\n",
        " 'KFTA': 'Fort Smith ',\n",
        " 'KGMB': 'Honolulu ',\n",
        " 'KGO': 'San Francisco ',\n",
        " 'KGTV': 'San Diego ',\n",
        " 'KHBS': 'Fort Smith ',\n",
        " 'KHNL': 'Honolulu ',\n",
        " 'KHON': 'Honolulu ',\n",
        " 'KHOU': 'Houston ',\n",
        " 'KING': 'Seattle ',\n",
        " 'KIRO': 'Seattle ',\n",
        " 'KITV': 'Honolulu ',\n",
        " 'KJCT': 'Grand Junction ',\n",
        " 'KJRH': 'Tulsa ',\n",
        " 'KJTV': 'Lubbock ',\n",
        " 'KKCO': 'Grand Junction ',\n",
        " 'KKTV': 'Colorado Springs ',\n",
        " 'KLAS': 'Las Vegas',\n",
        " 'KLBK': 'Lubbock ',\n",
        " 'KLRT': 'Little Rock ',\n",
        " 'KMGH': 'Denver ',\n",
        " 'KMID': 'Odessa ',\n",
        " 'KMSP': 'Minneapolis ',\n",
        " 'KNSD': 'San Diego ',\n",
        " 'KNTV': 'San Francisco ',\n",
        " 'KNWA': 'Fort Smith ',\n",
        " 'KOAA': 'Colorado Springs ',\n",
        " 'KOAT': 'Albuquerque ',\n",
        " 'KOB': 'Albuquerque ',\n",
        " 'KOKH': 'Oklahoma City ',\n",
        " 'KOKI': 'Tulsa ',\n",
        " 'KOMO': 'Seattle ',\n",
        " 'KOSA': 'Odessa ',\n",
        " 'KOTV': 'Tulsa ',\n",
        " 'KPRC': 'Houston ',\n",
        " 'KRBC': 'Abilene ',\n",
        " 'KRDO': 'Colorado Springs ',\n",
        " 'KREK': 'Grand Junction ',\n",
        " 'KRIV': 'Houston ',\n",
        " 'KRON': 'San Francisco ',\n",
        " 'KRQE': 'Albuquerque ',\n",
        " 'KSAT': 'San Antonio ',\n",
        " 'KSNV': 'Las Vegas',\n",
        " 'KSTP': 'Minneapolis ',\n",
        " 'KTAB': 'Abilene ',\n",
        " 'KTBC': 'Austin ',\n",
        " 'KTHV': 'Little Rock ',\n",
        " 'KTNV': 'Las Vegas',\n",
        " 'KTRK': 'Houston ',\n",
        " 'KTUL': 'Tulsa ',\n",
        " 'KTVU': 'San Francisco ',\n",
        " 'KTXS': 'Abilene ',\n",
        " 'KUSA': 'Denver ',\n",
        " 'KVII': 'Amarillo ',\n",
        " 'KVUE': 'Austin ',\n",
        " 'KVVU': 'Las Vegas',\n",
        " 'KWES': 'Odessa ',\n",
        " 'KWTV': 'Oklahoma City ',\n",
        " 'KWTX': 'Waco',\n",
        " 'KXAN': 'Austin ',\n",
        " 'KXRM': 'Colorado Springs ',\n",
        " 'KXXV': 'Waco',\n",
        " 'WABC': 'New York',\n",
        " 'WAOW': 'Wausau ',\n",
        " 'WATE': 'Knoxville',\n",
        " 'WBAY': 'Green Bay ',\n",
        " 'WBBH': 'Ft. Mayers ',\n",
        " 'WBIR': 'Knoxville',\n",
        " 'WBRE': 'Wilkes Barre',\n",
        " 'WBZ': 'Boston ',\n",
        " 'WCAU': 'Philadelphia ',\n",
        " 'WCBS': 'New York',\n",
        " 'WCCO': 'Minneapolis ',\n",
        " 'WCPO': 'Cincinnati ',\n",
        " 'WCVB': 'Boston ',\n",
        " 'WDEF': 'Chattanooga ',\n",
        " 'WDJT': 'Milwaukee ',\n",
        " 'WDKY': 'Lexington ',\n",
        " 'WDSI': 'Chattanooga ',\n",
        " 'WEAU': 'La Crosse ',\n",
        " 'WESH': 'Orlando ',\n",
        " 'WFLX': 'Palm Beach ',\n",
        " 'WFOR': 'Miami ',\n",
        " 'WFRV': 'Green Bay ',\n",
        " 'WFSB': 'Hartford ',\n",
        " 'WFTL': 'Tampa ',\n",
        " 'WFTS': 'Tampa ',\n",
        " 'WFTV': 'Orlando ',\n",
        " 'WFTX': 'Ft. Mayers ',\n",
        " 'WFXS': 'Wausau ',\n",
        " 'WFXT': 'Boston ',\n",
        " 'WGBA': 'Green Bay ',\n",
        " 'WGCL': 'Georgia',\n",
        " 'WHBQ': 'Memphis ',\n",
        " 'WHDH': 'Boston ',\n",
        " 'WINK': 'Ft. Mayers ',\n",
        " 'WISC': 'Madison',\n",
        " 'WISN': 'Milwaukee ',\n",
        " 'WITI': 'Milwaukee ',\n",
        " 'WJFW': 'Wausau ',\n",
        " 'WKBT': 'La Crosse ',\n",
        " 'WKMG': 'Orlando ',\n",
        " 'WKOW': 'Madison',\n",
        " 'WKRC': 'Cincinnati ',\n",
        " 'WKRN': 'Nashville ',\n",
        " 'WKYT': 'Lexington ',\n",
        " 'WLEX': 'Lexington ',\n",
        " 'WLUK': 'Green Bay ',\n",
        " 'WLWT': 'Cincinnati ',\n",
        " 'WMC': 'Memphis ',\n",
        " 'WMGM': 'Philadelphia ',\n",
        " 'WMSN': 'Madison',\n",
        " 'WMTV': 'Madison',\n",
        " 'WNBC': 'New York',\n",
        " 'WNEP': 'Wilkes Barre',\n",
        " 'WNYW': 'New York',\n",
        " 'WOAI': 'San Antonio ',\n",
        " 'WOFL': 'Orlando ',\n",
        " 'WPBF': 'Palm Beach ',\n",
        " 'WPEC': 'Palm Beach ',\n",
        " 'WPLG': 'Miami ',\n",
        " 'WPTV': 'Palm Beach ',\n",
        " 'WPVI': 'Philadelphia ',\n",
        " 'WRCB': 'Chattanooga ',\n",
        " 'WREG': 'Memphis ',\n",
        " 'WSAW': 'Wausau ',\n",
        " 'WSMV': 'Nashville ',\n",
        " 'WSVN': 'Miami ',\n",
        " 'WTFX': 'Philadelphia ',\n",
        " 'WTMJ': 'Milwaukee ',\n",
        " 'WTNZ': 'Knoxville',\n",
        " 'WTPY': 'Memphis ',\n",
        " 'WTSP': 'Tampa ',\n",
        " 'WTVC': 'Chattanooga ',\n",
        " 'WTVF': 'Nashville ',\n",
        " 'WTVJ': 'Miami ',\n",
        " 'WTVQ': 'Lexington ',\n",
        " 'WTVT': 'Tampa ',\n",
        " 'WVLT': 'Knoxville',\n",
        " 'WXIX': 'Cincinnati ',\n",
        " 'WYOU': 'Wilkes Barre',\n",
        " 'WZTV': 'Nashville ',\n",
        " 'WZVN': 'Ft. Mayers '}\n"
       ]
      }
     ],
     "prompt_number": 26
    },
    {
     "cell_type": "markdown",
     "metadata": {},
     "source": [
      "Now let's find out how many codes there are in each set."
     ]
    },
    {
     "cell_type": "code",
     "collapsed": false,
     "input": [
      "print len(code_map)\n",
      "print len(DMCAs.keys())\n",
      "\n",
      "codes_master = set(code_map.keys())\n",
      "codes_newsbank = set(DMCAs.keys())"
     ],
     "language": "python",
     "metadata": {},
     "outputs": [
      {
       "output_type": "stream",
       "stream": "stdout",
       "text": [
        "164\n",
        "195\n"
       ]
      }
     ],
     "prompt_number": 8
    },
    {
     "cell_type": "markdown",
     "metadata": {},
     "source": [
      "It appears that coverage favors the Newsbank corpus.  How many total overlap?"
     ]
    },
    {
     "cell_type": "code",
     "collapsed": false,
     "input": [
      "len(codes_master.intersection(codes_newsbank))"
     ],
     "language": "python",
     "metadata": {},
     "outputs": [
      {
       "metadata": {},
       "output_type": "pyout",
       "prompt_number": 9,
       "text": [
        "154"
       ]
      }
     ],
     "prompt_number": 9
    },
    {
     "cell_type": "markdown",
     "metadata": {},
     "source": [
      "We have a total of 154 shows with DMCA covariate information.  Which markets are these?"
     ]
    },
    {
     "cell_type": "code",
     "collapsed": false,
     "input": [
      "overlap = codes_master.intersection(codes_newsbank)\n",
      "total = [v.strip() for k, v in code_map.items() if k in overlap]\n",
      "print len(total)\n",
      "pprint(total)"
     ],
     "language": "python",
     "metadata": {},
     "outputs": [
      {
       "output_type": "stream",
       "stream": "stdout",
       "text": [
        "154\n",
        "['Hartford',\n",
        " 'Amarillo',\n",
        " 'Boston',\n",
        " 'Milwaukee',\n",
        " 'Little Rock',\n",
        " 'San Antonio',\n",
        " 'Palm Beach',\n",
        " 'Wilkes Barre',\n",
        " 'Grand Junction',\n",
        " 'Miami',\n",
        " 'Lubbock',\n",
        " 'Milwaukee',\n",
        " 'Seattle',\n",
        " 'Odessa',\n",
        " 'Tulsa',\n",
        " 'Tampa',\n",
        " 'Seattle',\n",
        " 'Fort Smith',\n",
        " 'Nashville',\n",
        " 'Wilkes Barre',\n",
        " 'Lexington',\n",
        " 'Las Vegas',\n",
        " 'Knoxville',\n",
        " 'Minneapolis',\n",
        " 'Little Rock',\n",
        " 'Austin',\n",
        " 'Albuquerque',\n",
        " 'Madison',\n",
        " 'Boston',\n",
        " 'Palm Beach',\n",
        " 'Milwaukee',\n",
        " 'Philadelphia',\n",
        " 'Milwaukee',\n",
        " 'Chattanooga',\n",
        " 'New York',\n",
        " 'Grand Junction',\n",
        " 'Chattanooga',\n",
        " 'Lubbock',\n",
        " 'Memphis',\n",
        " 'Las Vegas',\n",
        " 'Tulsa',\n",
        " 'Oklahoma City',\n",
        " 'Austin',\n",
        " 'Palm Beach',\n",
        " 'Philadelphia',\n",
        " 'Abilene',\n",
        " 'Seattle',\n",
        " 'Denver',\n",
        " 'Palm Beach',\n",
        " 'Ft. Mayers',\n",
        " 'Wilkes Barre',\n",
        " 'Fort Smith',\n",
        " 'Orlando',\n",
        " 'Waco',\n",
        " 'Houston',\n",
        " 'Lexington',\n",
        " 'Houston',\n",
        " 'Amarillo',\n",
        " 'San Diego',\n",
        " 'Amarillo',\n",
        " 'Odessa',\n",
        " 'Houston',\n",
        " 'New York',\n",
        " 'Little Rock',\n",
        " 'Oklahoma City',\n",
        " 'Ft. Mayers',\n",
        " 'Tulsa',\n",
        " 'Memphis',\n",
        " 'Waco',\n",
        " 'Denver',\n",
        " 'Green Bay',\n",
        " 'Knoxville',\n",
        " 'Austin',\n",
        " 'Amarillo',\n",
        " 'Little Rock',\n",
        " 'San Francisco',\n",
        " 'Wausau',\n",
        " 'Colorado Springs',\n",
        " 'Wausau',\n",
        " 'Waco',\n",
        " 'Colorado Springs',\n",
        " 'New York',\n",
        " 'Jonesboro',\n",
        " 'New York',\n",
        " 'Albuquerque',\n",
        " 'Orlando',\n",
        " 'Tampa',\n",
        " 'Abilene',\n",
        " 'Miami',\n",
        " 'Orlando',\n",
        " 'Cincinnati',\n",
        " 'Miami',\n",
        " 'Nashville',\n",
        " 'Ft. Mayers',\n",
        " 'Odessa',\n",
        " 'Minneapolis',\n",
        " 'La Crosse',\n",
        " 'Abilene',\n",
        " 'San Diego',\n",
        " 'Colorado Springs',\n",
        " 'Fort Smith',\n",
        " 'Colorado Springs',\n",
        " 'Lubbock',\n",
        " 'San Diego',\n",
        " 'La Crosse',\n",
        " 'Cincinnati',\n",
        " 'Green Bay',\n",
        " 'Knoxville',\n",
        " 'Denver',\n",
        " 'Lexington',\n",
        " 'Minneapolis',\n",
        " 'Cincinnati',\n",
        " 'Nashville',\n",
        " 'Wausau',\n",
        " 'Tulsa',\n",
        " 'Honolulu',\n",
        " 'Albuquerque',\n",
        " 'Las Vegas',\n",
        " 'Nashville',\n",
        " 'Boston',\n",
        " 'Wausau',\n",
        " 'San Antonio',\n",
        " 'Knoxville',\n",
        " 'Cincinnati',\n",
        " 'Madison',\n",
        " 'Denver',\n",
        " 'Seattle',\n",
        " 'Philadelphia',\n",
        " 'Green Bay',\n",
        " 'Georgia',\n",
        " 'San Francisco',\n",
        " 'San Francisco',\n",
        " 'Fort Smith',\n",
        " 'Houston',\n",
        " 'Chattanooga',\n",
        " 'Minneapolis',\n",
        " 'San Antonio',\n",
        " 'Honolulu',\n",
        " 'Austin',\n",
        " 'San Antonio',\n",
        " 'Las Vegas',\n",
        " 'Green Bay',\n",
        " 'Chattanooga',\n",
        " 'Ft. Mayers',\n",
        " 'Lubbock',\n",
        " 'Honolulu',\n",
        " 'Madison',\n",
        " 'Madison',\n",
        " 'Orlando',\n",
        " 'Miami',\n",
        " 'Oklahoma City',\n",
        " 'Lexington',\n",
        " 'Honolulu',\n",
        " 'Tampa']\n"
       ]
      }
     ],
     "prompt_number": 14
    },
    {
     "cell_type": "markdown",
     "metadata": {},
     "source": [
      "## For those shows that are in our master list, how many observations do we have of each?"
     ]
    },
    {
     "cell_type": "code",
     "collapsed": false,
     "input": [
      "master_by_market = defaultdict(int)\n",
      "master_by_dmca = defaultdict(int)\n",
      "master_by_network = defaultdict(int)\n",
      "\n",
      "for k,v in d.items():\n",
      "    DMCA_found = re.search(DMCA_re, k)\n",
      "    if DMCA_found and DMCA_found.group(0) in overlap:\n",
      "        market = code_map[DMCA_found.group(0)]\n",
      "        master_by_market[market] += v\n",
      "    if DMCA_found and DMCA_found.group(0) in overlap:\n",
      "        master_by_dmca[DMCA_found.group(0)] += v\n",
      "    if DMCA_found and DMCA_found.group(0) in overlap:\n",
      "        master_by_network[network_map[DMCA_found.group(0)].strip()] += v\n",
      "        \n",
      "pprint(dict(master_by_market))\n",
      "#pprint(dict(master_by_dmca))\n",
      "pprint(dict(master_by_network))"
     ],
     "language": "python",
     "metadata": {},
     "outputs": [
      {
       "output_type": "stream",
       "stream": "stdout",
       "text": [
        "{'Abilene ': 2742,\n",
        " 'Albuquerque ': 4085,\n",
        " 'Amarillo ': 3307,\n",
        " 'Austin ': 6646,\n",
        " 'Boston ': 1342,\n",
        " 'Chattanooga ': 15674,\n",
        " 'Cincinnati ': 2117,\n",
        " 'Colorado Springs ': 3576,\n",
        " 'Denver ': 12840,\n",
        " 'Fort Smith ': 15971,\n",
        " 'Ft. Mayers ': 8113,\n",
        " 'Georgia': 561,\n",
        " 'Grand Junction ': 1179,\n",
        " 'Green Bay ': 5707,\n",
        " 'Hartford ': 2027,\n",
        " 'Honolulu ': 20865,\n",
        " 'Houston ': 3932,\n",
        " 'Jonesboro ': 6239,\n",
        " 'Knoxville': 5268,\n",
        " 'La Crosse ': 2936,\n",
        " 'Las Vegas': 54466,\n",
        " 'Lexington ': 3500,\n",
        " 'Little Rock ': 33759,\n",
        " 'Lubbock ': 3271,\n",
        " 'Madison': 5550,\n",
        " 'Memphis ': 5555,\n",
        " 'Miami ': 17837,\n",
        " 'Milwaukee ': 8359,\n",
        " 'Minneapolis ': 66184,\n",
        " 'Nashville ': 26222,\n",
        " 'New York': 1836,\n",
        " 'Odessa ': 2814,\n",
        " 'Oklahoma City ': 8562,\n",
        " 'Orlando ': 9379,\n",
        " 'Palm Beach ': 9985,\n",
        " 'Philadelphia ': 487,\n",
        " 'San Antonio ': 3336,\n",
        " 'San Diego ': 7662,\n",
        " 'San Francisco ': 7559,\n",
        " 'Seattle ': 19687,\n",
        " 'Tampa ': 6415,\n",
        " 'Tulsa ': 12771,\n",
        " 'Waco': 2468,\n",
        " 'Wausau ': 3578,\n",
        " 'Wilkes Barre': 4514}\n",
        "{'ABC': 133772, 'CBS': 120968, 'FOX': 74147, 'Fox': 1527, 'NBC': 120469}\n"
       ]
      }
     ],
     "prompt_number": 28
    },
    {
     "cell_type": "code",
     "collapsed": false,
     "input": [
      "import seaborn as sns\n",
      "import pandas as pd\n",
      "import numpy as np\n",
      "\n",
      "market_data = pd.DataFrame(master_by_market.items(), columns=['Market','Count'])\n",
      "market_data = market_data.sort_values(by='Count', ascending=False)\n",
      "print(market_data)"
     ],
     "language": "python",
     "metadata": {},
     "outputs": [
      {
       "output_type": "stream",
       "stream": "stdout",
       "text": [
        "               Market  Count\n",
        "37      Philadelphia     487\n",
        "4             Georgia    561\n",
        "44    Grand Junction    1179\n",
        "16            Boston    1342\n",
        "20           New York   1836\n",
        "13          Hartford    2027\n",
        "34        Cincinnati    2117\n",
        "2                Waco   2468\n",
        "14           Abilene    2742\n",
        "17            Odessa    2814\n",
        "40         La Crosse    2936\n",
        "1            Lubbock    3271\n",
        "12          Amarillo    3307\n",
        "7        San Antonio    3336\n",
        "36         Lexington    3500\n",
        "43  Colorado Springs    3576\n",
        "18            Wausau    3578\n",
        "11           Houston    3932\n",
        "33       Albuquerque    4085\n",
        "8        Wilkes Barre   4514\n",
        "39          Knoxville   5268\n",
        "35            Madison   5550\n",
        "30           Memphis    5555\n",
        "19         Green Bay    5707\n",
        "41         Jonesboro    6239\n",
        "29             Tampa    6415\n",
        "15            Austin    6646\n",
        "9      San Francisco    7559\n",
        "26         San Diego    7662\n",
        "6         Ft. Mayers    8113\n",
        "42         Milwaukee    8359\n",
        "5      Oklahoma City    8562\n",
        "3            Orlando    9379\n",
        "28        Palm Beach    9985\n",
        "31             Tulsa   12771\n",
        "24            Denver   12840\n",
        "21       Chattanooga   15674\n",
        "23        Fort Smith   15971\n",
        "0              Miami   17837\n",
        "32           Seattle   19687\n",
        "10          Honolulu   20865\n",
        "27         Nashville   26222\n",
        "22       Little Rock   33759\n",
        "38          Las Vegas  54466\n",
        "25       Minneapolis   66184\n"
       ]
      }
     ],
     "prompt_number": 67
    },
    {
     "cell_type": "code",
     "collapsed": false,
     "input": [
      "import matplotlib\n",
      "import matplotlib.pyplot as plt\n",
      "\n",
      "matplotlib.style.use('ggplot')\n",
      "market_data.plot.barh(title='Count of shows per market', figsize=(12,24))\n",
      "plt.yticks(market_data.index.values, market_data['Market'])\n",
      "plt.ylabel('Markets')"
     ],
     "language": "python",
     "metadata": {},
     "outputs": [
      {
       "metadata": {},
       "output_type": "pyout",
       "prompt_number": 65,
       "text": [
        "<matplotlib.text.Text at 0x7fe937466810>"
       ]
      },
      {
       "metadata": {},
       "output_type": "display_data",
       "png": "[encoded data removed]",
       "text": [
        "<matplotlib.figure.Figure at 0x7fe937cc9dd0>"
       ]
      }
     ],
     "prompt_number": 65
    },
    {
     "cell_type": "code",
     "collapsed": false,
     "input": [],
     "language": "python",
     "metadata": {},
     "outputs": []
    }
   ],
   "metadata": {}
  }
 ]
}